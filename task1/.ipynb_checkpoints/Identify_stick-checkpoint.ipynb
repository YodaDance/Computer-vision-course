{
 "cells": [
  {
   "cell_type": "code",
   "execution_count": 1,
   "id": "8653c9e9-2b86-40b0-adc8-5c40b57f1e2d",
   "metadata": {},
   "outputs": [],
   "source": [
    "import numpy as np\n",
    "import cv2 as cv\n",
    "import os"
   ]
  },
  {
   "cell_type": "code",
   "execution_count": 37,
   "id": "2ebefc40-7034-4628-ad91-1cd557f03ef1",
   "metadata": {},
   "outputs": [],
   "source": [
    "# some function to work with a frame that will be used to find a blue pen\n",
    "def find_blue_pixels_straight(frame):\n",
    "    # working with a copy of a frame\n",
    "    # assigning more bit to a pixel for comparison\n",
    "    work_frame = np.uint16(frame.copy())\n",
    "    # making a binary frame\n",
    "    work_frame[~((work_frame[:, :, 0] > work_frame[:, :, 1] + 70) & (work_frame[:, :, 0] > work_frame[:, :, 2] + 70))] = (0, 0, 0)\n",
    "    work_frame[((work_frame[:, :, 0] > work_frame[:, :, 1] + 70) & (work_frame[:, :, 0] > work_frame[:, :, 2] + 70))] = (255, 255, 255)\n",
    "    # turn it back ot uint8\n",
    "    return np.uint8(work_frame)   \n",
    "\n",
    "# not successful one\n",
    "# def find_blue_pixels_hsv(frame):\n",
    "#     work_frame = cv.cvtColor(frame.copy(), cv.COLOR_BGR2HSV)\n",
    "#     h, s, v = cv.split(work_frame)\n",
    "#     s.fill(255)\n",
    "#     v.fill(255)\n",
    "#     hsv_image = cv.merge([h, s, v])\n",
    "#     lower = np.array([117, 255, 255], dtype = np.uint8)\n",
    "#     upper = np.array([127, 255, 255], dtype = np.uint8)\n",
    "    \n",
    "#     return cv.inRange(hsv_image, lower, upper)\n",
    "    "
   ]
  },
  {
   "cell_type": "code",
   "execution_count": 40,
   "id": "7239cc8d-7e69-46f5-80f9-aab7cbce27b9",
   "metadata": {},
   "outputs": [],
   "source": [
    "cap = cv.VideoCapture(0)\n",
    "\n",
    "if not cap.isOpened():\n",
    "    print(\"Cannot open camera\")\n",
    "    exit()\n",
    "\n",
    "while True:\n",
    "    # Capture frame-by-frame\n",
    "    ret, frame = cap.read()\n",
    " \n",
    "    # if frame is read correctly ret is True\n",
    "    if not ret:\n",
    "        print(\"Can't receive frame (sq tream end?). Exiting ...\")\n",
    "        break\n",
    "\n",
    "    # finding blue pixels in \n",
    "    work_frame = find_blue_pixels_straight(frame)\n",
    "    #work_frame2  = find_blue_pixels_hsv(frame)\n",
    "    contour_frame = cv.cvtColor(work_frame.copy(), cv.COLOR_BGR2GRAY)\n",
    "    contour_frame = cv.equalizeHist(contour_frame)\n",
    "    # to stabilize an image - making some blur\n",
    "    # from here: https://stackoverflow.com/questions/71739517/detect-squares-paintings-in-images-and-draw-contour-around-them-using-python\n",
    "    contour_frame = cv.GaussianBlur(contour_frame, (17,17), 0)\n",
    "    # as an image already binery tbh, we'll treshhold it again\n",
    "    ret, thresh = cv.threshold(contour_frame, 0, 255, cv.THRESH_BINARY)\n",
    "    # looking for contours of an object\n",
    "    contours, hierarchy = cv.findContours(thresh, cv.RETR_TREE, cv.CHAIN_APPROX_SIMPLE)\n",
    "\n",
    "    # creating a rectangle of a contour and displaying it\n",
    "    for c in contours:\n",
    "        x, y, w, h = cv.boundingRect(c)\n",
    "        cv.rectangle(work_frame, (x, y), (x+w, y+h), (0, 255, 0), 2)\n",
    "\n",
    "    cv.imshow('frame', np.hstack((frame, work_frame)))\n",
    "    #cv.imshow('frame1', work_frame2)\n",
    "    \n",
    "    if cv.waitKey(1) == ord('q'):\n",
    "        break\n",
    " \n",
    "# When everything done, release the capture\n",
    "cap.release()\n",
    "cv.destroyAllWindows()"
   ]
  },
  {
   "cell_type": "code",
   "execution_count": null,
   "id": "6dee1f9a-377c-4e19-94b2-10aa942c10a4",
   "metadata": {},
   "outputs": [],
   "source": []
  }
 ],
 "metadata": {
  "kernelspec": {
   "display_name": "Python 3 (ipykernel)",
   "language": "python",
   "name": "python3"
  },
  "language_info": {
   "codemirror_mode": {
    "name": "ipython",
    "version": 3
   },
   "file_extension": ".py",
   "mimetype": "text/x-python",
   "name": "python",
   "nbconvert_exporter": "python",
   "pygments_lexer": "ipython3",
   "version": "3.12.4"
  }
 },
 "nbformat": 4,
 "nbformat_minor": 5
}
